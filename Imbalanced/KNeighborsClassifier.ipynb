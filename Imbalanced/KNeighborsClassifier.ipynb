{
 "cells": [
  {
   "cell_type": "markdown",
   "metadata": {
    "id": "2zhP8OFb46zk"
   },
   "source": [
    "# Importing Modules"
   ]
  },
  {
   "cell_type": "code",
   "execution_count": 1,
   "metadata": {
    "executionInfo": {
     "elapsed": 603,
     "status": "ok",
     "timestamp": 1636698005102,
     "user": {
      "displayName": "Aastha IIITD",
      "photoUrl": "https://lh3.googleusercontent.com/a-/AOh14GiLraMOSGhp36GfNRW9pA30-8inCgO3YzOMmuDksQ=s64",
      "userId": "17611466845080095343"
     },
     "user_tz": -330
    },
    "id": "zBmzE-aC4ooV"
   },
   "outputs": [],
   "source": [
    "import pandas as pd\n",
    "import numpy as np\n",
    "import matplotlib.pyplot as plt\n",
    "from sklearn.model_selection import train_test_split, GridSearchCV, cross_validate\n",
    "from sklearn.preprocessing import StandardScaler, OneHotEncoder, LabelEncoder, MinMaxScaler\n",
    "from sklearn.neighbors import KNeighborsClassifier\n",
    "from sklearn.metrics import accuracy_score,precision_score, recall_score, confusion_matrix, f1_score, roc_curve,auc"
   ]
  },
  {
   "cell_type": "markdown",
   "metadata": {
    "id": "ROGbJmXN4-c9"
   },
   "source": [
    "# Importing Dataset"
   ]
  },
  {
   "cell_type": "code",
   "execution_count": 2,
   "metadata": {
    "executionInfo": {
     "elapsed": 12,
     "status": "ok",
     "timestamp": 1636698005599,
     "user": {
      "displayName": "Aastha IIITD",
      "photoUrl": "https://lh3.googleusercontent.com/a-/AOh14GiLraMOSGhp36GfNRW9pA30-8inCgO3YzOMmuDksQ=s64",
      "userId": "17611466845080095343"
     },
     "user_tz": -330
    },
    "id": "ibS1kibB46QC"
   },
   "outputs": [],
   "source": [
    "df = pd.read_csv('WA_Fn-UseC_-HR-Employee-Attrition.csv')"
   ]
  },
  {
   "cell_type": "code",
   "execution_count": 3,
   "metadata": {
    "colab": {
     "base_uri": "https://localhost:8080/",
     "height": 309
    },
    "executionInfo": {
     "elapsed": 13,
     "status": "ok",
     "timestamp": 1636698005600,
     "user": {
      "displayName": "Aastha IIITD",
      "photoUrl": "https://lh3.googleusercontent.com/a-/AOh14GiLraMOSGhp36GfNRW9pA30-8inCgO3YzOMmuDksQ=s64",
      "userId": "17611466845080095343"
     },
     "user_tz": -330
    },
    "id": "vniC_UNb5CHJ",
    "outputId": "b2788d6e-bd98-423d-b2ee-e5e7f77bc826"
   },
   "outputs": [
    {
     "data": {
      "text/html": [
       "<div>\n",
       "<style scoped>\n",
       "    .dataframe tbody tr th:only-of-type {\n",
       "        vertical-align: middle;\n",
       "    }\n",
       "\n",
       "    .dataframe tbody tr th {\n",
       "        vertical-align: top;\n",
       "    }\n",
       "\n",
       "    .dataframe thead th {\n",
       "        text-align: right;\n",
       "    }\n",
       "</style>\n",
       "<table border=\"1\" class=\"dataframe\">\n",
       "  <thead>\n",
       "    <tr style=\"text-align: right;\">\n",
       "      <th></th>\n",
       "      <th>Age</th>\n",
       "      <th>Attrition</th>\n",
       "      <th>BusinessTravel</th>\n",
       "      <th>DailyRate</th>\n",
       "      <th>Department</th>\n",
       "      <th>DistanceFromHome</th>\n",
       "      <th>Education</th>\n",
       "      <th>EducationField</th>\n",
       "      <th>EmployeeCount</th>\n",
       "      <th>EmployeeNumber</th>\n",
       "      <th>...</th>\n",
       "      <th>RelationshipSatisfaction</th>\n",
       "      <th>StandardHours</th>\n",
       "      <th>StockOptionLevel</th>\n",
       "      <th>TotalWorkingYears</th>\n",
       "      <th>TrainingTimesLastYear</th>\n",
       "      <th>WorkLifeBalance</th>\n",
       "      <th>YearsAtCompany</th>\n",
       "      <th>YearsInCurrentRole</th>\n",
       "      <th>YearsSinceLastPromotion</th>\n",
       "      <th>YearsWithCurrManager</th>\n",
       "    </tr>\n",
       "  </thead>\n",
       "  <tbody>\n",
       "    <tr>\n",
       "      <th>0</th>\n",
       "      <td>41</td>\n",
       "      <td>Yes</td>\n",
       "      <td>Travel_Rarely</td>\n",
       "      <td>1102</td>\n",
       "      <td>Sales</td>\n",
       "      <td>1</td>\n",
       "      <td>2</td>\n",
       "      <td>Life Sciences</td>\n",
       "      <td>1</td>\n",
       "      <td>1</td>\n",
       "      <td>...</td>\n",
       "      <td>1</td>\n",
       "      <td>80</td>\n",
       "      <td>0</td>\n",
       "      <td>8</td>\n",
       "      <td>0</td>\n",
       "      <td>1</td>\n",
       "      <td>6</td>\n",
       "      <td>4</td>\n",
       "      <td>0</td>\n",
       "      <td>5</td>\n",
       "    </tr>\n",
       "    <tr>\n",
       "      <th>1</th>\n",
       "      <td>49</td>\n",
       "      <td>No</td>\n",
       "      <td>Travel_Frequently</td>\n",
       "      <td>279</td>\n",
       "      <td>Research &amp; Development</td>\n",
       "      <td>8</td>\n",
       "      <td>1</td>\n",
       "      <td>Life Sciences</td>\n",
       "      <td>1</td>\n",
       "      <td>2</td>\n",
       "      <td>...</td>\n",
       "      <td>4</td>\n",
       "      <td>80</td>\n",
       "      <td>1</td>\n",
       "      <td>10</td>\n",
       "      <td>3</td>\n",
       "      <td>3</td>\n",
       "      <td>10</td>\n",
       "      <td>7</td>\n",
       "      <td>1</td>\n",
       "      <td>7</td>\n",
       "    </tr>\n",
       "    <tr>\n",
       "      <th>2</th>\n",
       "      <td>37</td>\n",
       "      <td>Yes</td>\n",
       "      <td>Travel_Rarely</td>\n",
       "      <td>1373</td>\n",
       "      <td>Research &amp; Development</td>\n",
       "      <td>2</td>\n",
       "      <td>2</td>\n",
       "      <td>Other</td>\n",
       "      <td>1</td>\n",
       "      <td>4</td>\n",
       "      <td>...</td>\n",
       "      <td>2</td>\n",
       "      <td>80</td>\n",
       "      <td>0</td>\n",
       "      <td>7</td>\n",
       "      <td>3</td>\n",
       "      <td>3</td>\n",
       "      <td>0</td>\n",
       "      <td>0</td>\n",
       "      <td>0</td>\n",
       "      <td>0</td>\n",
       "    </tr>\n",
       "    <tr>\n",
       "      <th>3</th>\n",
       "      <td>33</td>\n",
       "      <td>No</td>\n",
       "      <td>Travel_Frequently</td>\n",
       "      <td>1392</td>\n",
       "      <td>Research &amp; Development</td>\n",
       "      <td>3</td>\n",
       "      <td>4</td>\n",
       "      <td>Life Sciences</td>\n",
       "      <td>1</td>\n",
       "      <td>5</td>\n",
       "      <td>...</td>\n",
       "      <td>3</td>\n",
       "      <td>80</td>\n",
       "      <td>0</td>\n",
       "      <td>8</td>\n",
       "      <td>3</td>\n",
       "      <td>3</td>\n",
       "      <td>8</td>\n",
       "      <td>7</td>\n",
       "      <td>3</td>\n",
       "      <td>0</td>\n",
       "    </tr>\n",
       "    <tr>\n",
       "      <th>4</th>\n",
       "      <td>27</td>\n",
       "      <td>No</td>\n",
       "      <td>Travel_Rarely</td>\n",
       "      <td>591</td>\n",
       "      <td>Research &amp; Development</td>\n",
       "      <td>2</td>\n",
       "      <td>1</td>\n",
       "      <td>Medical</td>\n",
       "      <td>1</td>\n",
       "      <td>7</td>\n",
       "      <td>...</td>\n",
       "      <td>4</td>\n",
       "      <td>80</td>\n",
       "      <td>1</td>\n",
       "      <td>6</td>\n",
       "      <td>3</td>\n",
       "      <td>3</td>\n",
       "      <td>2</td>\n",
       "      <td>2</td>\n",
       "      <td>2</td>\n",
       "      <td>2</td>\n",
       "    </tr>\n",
       "  </tbody>\n",
       "</table>\n",
       "<p>5 rows × 35 columns</p>\n",
       "</div>"
      ],
      "text/plain": [
       "   Age Attrition     BusinessTravel  DailyRate              Department  \\\n",
       "0   41       Yes      Travel_Rarely       1102                   Sales   \n",
       "1   49        No  Travel_Frequently        279  Research & Development   \n",
       "2   37       Yes      Travel_Rarely       1373  Research & Development   \n",
       "3   33        No  Travel_Frequently       1392  Research & Development   \n",
       "4   27        No      Travel_Rarely        591  Research & Development   \n",
       "\n",
       "   DistanceFromHome  Education EducationField  EmployeeCount  EmployeeNumber  \\\n",
       "0                 1          2  Life Sciences              1               1   \n",
       "1                 8          1  Life Sciences              1               2   \n",
       "2                 2          2          Other              1               4   \n",
       "3                 3          4  Life Sciences              1               5   \n",
       "4                 2          1        Medical              1               7   \n",
       "\n",
       "   ...  RelationshipSatisfaction StandardHours  StockOptionLevel  \\\n",
       "0  ...                         1            80                 0   \n",
       "1  ...                         4            80                 1   \n",
       "2  ...                         2            80                 0   \n",
       "3  ...                         3            80                 0   \n",
       "4  ...                         4            80                 1   \n",
       "\n",
       "   TotalWorkingYears  TrainingTimesLastYear WorkLifeBalance  YearsAtCompany  \\\n",
       "0                  8                      0               1               6   \n",
       "1                 10                      3               3              10   \n",
       "2                  7                      3               3               0   \n",
       "3                  8                      3               3               8   \n",
       "4                  6                      3               3               2   \n",
       "\n",
       "  YearsInCurrentRole  YearsSinceLastPromotion  YearsWithCurrManager  \n",
       "0                  4                        0                     5  \n",
       "1                  7                        1                     7  \n",
       "2                  0                        0                     0  \n",
       "3                  7                        3                     0  \n",
       "4                  2                        2                     2  \n",
       "\n",
       "[5 rows x 35 columns]"
      ]
     },
     "execution_count": 3,
     "metadata": {},
     "output_type": "execute_result"
    }
   ],
   "source": [
    "df.head()"
   ]
  },
  {
   "cell_type": "markdown",
   "metadata": {
    "id": "Nh1RNM3j5QSL"
   },
   "source": [
    "# Encoding Categorical Values"
   ]
  },
  {
   "cell_type": "code",
   "execution_count": 4,
   "metadata": {
    "executionInfo": {
     "elapsed": 11,
     "status": "ok",
     "timestamp": 1636698005601,
     "user": {
      "displayName": "Aastha IIITD",
      "photoUrl": "https://lh3.googleusercontent.com/a-/AOh14GiLraMOSGhp36GfNRW9pA30-8inCgO3YzOMmuDksQ=s64",
      "userId": "17611466845080095343"
     },
     "user_tz": -330
    },
    "id": "vzACHnQQ5DhE"
   },
   "outputs": [],
   "source": [
    "categorical_column = ['Attrition', 'BusinessTravel', 'Department','Gender', 'JobRole', 'MaritalStatus', 'OverTime','EducationField']\n",
    "encoder=LabelEncoder()\n",
    "df[categorical_column]=df[categorical_column].apply(encoder.fit_transform)"
   ]
  },
  {
   "cell_type": "markdown",
   "metadata": {
    "id": "pkyEISlS5T9C"
   },
   "source": [
    "# Seperating into X and y"
   ]
  },
  {
   "cell_type": "code",
   "execution_count": 5,
   "metadata": {
    "executionInfo": {
     "elapsed": 12,
     "status": "ok",
     "timestamp": 1636698005602,
     "user": {
      "displayName": "Aastha IIITD",
      "photoUrl": "https://lh3.googleusercontent.com/a-/AOh14GiLraMOSGhp36GfNRW9pA30-8inCgO3YzOMmuDksQ=s64",
      "userId": "17611466845080095343"
     },
     "user_tz": -330
    },
    "id": "A2hzRu2X5Pzg"
   },
   "outputs": [],
   "source": [
    "y=df['Attrition']\n",
    "X=df.drop(['EmployeeCount','Attrition','EmployeeNumber','Over18','StandardHours'],axis=1)"
   ]
  },
  {
   "cell_type": "markdown",
   "metadata": {
    "id": "DwGH4sf15ZtD"
   },
   "source": [
    "# Spliting into Train and Test Sets"
   ]
  },
  {
   "cell_type": "code",
   "execution_count": 6,
   "metadata": {
    "executionInfo": {
     "elapsed": 539,
     "status": "ok",
     "timestamp": 1636698006130,
     "user": {
      "displayName": "Aastha IIITD",
      "photoUrl": "https://lh3.googleusercontent.com/a-/AOh14GiLraMOSGhp36GfNRW9pA30-8inCgO3YzOMmuDksQ=s64",
      "userId": "17611466845080095343"
     },
     "user_tz": -330
    },
    "id": "LAxZ0v885YZE"
   },
   "outputs": [],
   "source": [
    "X_train, X_test, y_train, y_test = train_test_split(X,y,test_size=0.3,random_state=1)"
   ]
  },
  {
   "cell_type": "markdown",
   "metadata": {
    "id": "G9tNkgRm6MpO"
   },
   "source": [
    "# Feature Scaling"
   ]
  },
  {
   "cell_type": "markdown",
   "metadata": {
    "id": "vzMRVWh06P2o"
   },
   "source": [
    "Standardization"
   ]
  },
  {
   "cell_type": "code",
   "execution_count": 7,
   "metadata": {
    "executionInfo": {
     "elapsed": 9,
     "status": "ok",
     "timestamp": 1636698006131,
     "user": {
      "displayName": "Aastha IIITD",
      "photoUrl": "https://lh3.googleusercontent.com/a-/AOh14GiLraMOSGhp36GfNRW9pA30-8inCgO3YzOMmuDksQ=s64",
      "userId": "17611466845080095343"
     },
     "user_tz": -330
    },
    "id": "NZ72U6ED5gB8"
   },
   "outputs": [],
   "source": [
    "standard_scaler = StandardScaler()\n",
    "\n",
    "X_train_standardized = standard_scaler.fit_transform(X_train)\n",
    "X_test_standardized = standard_scaler.transform(X_test)\n",
    "\n",
    "X_standardized = standard_scaler.fit_transform(X)"
   ]
  },
  {
   "cell_type": "markdown",
   "metadata": {
    "id": "SLVuMudd6TkW"
   },
   "source": [
    "Normalization"
   ]
  },
  {
   "cell_type": "code",
   "execution_count": 8,
   "metadata": {
    "executionInfo": {
     "elapsed": 7,
     "status": "ok",
     "timestamp": 1636698006131,
     "user": {
      "displayName": "Aastha IIITD",
      "photoUrl": "https://lh3.googleusercontent.com/a-/AOh14GiLraMOSGhp36GfNRW9pA30-8inCgO3YzOMmuDksQ=s64",
      "userId": "17611466845080095343"
     },
     "user_tz": -330
    },
    "id": "0H6bH1YL6SqU"
   },
   "outputs": [],
   "source": [
    "min_max_scaler = MinMaxScaler()\n",
    "\n",
    "X_train_normalized = min_max_scaler.fit_transform(X_train)\n",
    "X_test_normalized = min_max_scaler.transform(X_test)\n",
    "\n",
    "X_normalized = min_max_scaler.fit_transform(X)"
   ]
  },
  {
   "cell_type": "markdown",
   "metadata": {
    "id": "Km-SZW-96fdp"
   },
   "source": [
    "# Hyperparameter tuning using GridSearchCV"
   ]
  },
  {
   "cell_type": "code",
   "execution_count": 9,
   "metadata": {
    "executionInfo": {
     "elapsed": 6,
     "status": "ok",
     "timestamp": 1636698006131,
     "user": {
      "displayName": "Aastha IIITD",
      "photoUrl": "https://lh3.googleusercontent.com/a-/AOh14GiLraMOSGhp36GfNRW9pA30-8inCgO3YzOMmuDksQ=s64",
      "userId": "17611466845080095343"
     },
     "user_tz": -330
    },
    "id": "hfTbuvI36Vw-"
   },
   "outputs": [],
   "source": [
    "def tune_hyperparameters(model,X,y):\n",
    "  param_grid = {\n",
    "      'n_neighbors' : np.arange(5,20,2),\n",
    "      'leaf_size' : np.arange(1,50,5),\n",
    "      'weights' : ['uniform','distance']\n",
    "  }\n",
    "  grid_search = GridSearchCV(model,param_grid=param_grid)\n",
    "  grid_search.fit(X,y)\n",
    "  print(\"Best Params: \",grid_search.best_params_)\n",
    "  return grid_search.best_params_"
   ]
  },
  {
   "cell_type": "markdown",
   "metadata": {
    "id": "MZx8-PkZwCnc"
   },
   "source": [
    "# Without Scaling"
   ]
  },
  {
   "cell_type": "code",
   "execution_count": 10,
   "metadata": {
    "colab": {
     "base_uri": "https://localhost:8080/"
    },
    "executionInfo": {
     "elapsed": 7791,
     "status": "ok",
     "timestamp": 1636698013916,
     "user": {
      "displayName": "Aastha IIITD",
      "photoUrl": "https://lh3.googleusercontent.com/a-/AOh14GiLraMOSGhp36GfNRW9pA30-8inCgO3YzOMmuDksQ=s64",
      "userId": "17611466845080095343"
     },
     "user_tz": -330
    },
    "id": "Utso5UxqwCVP",
    "outputId": "afcd2055-e125-4b15-c847-024e1bfc11bd"
   },
   "outputs": [
    {
     "name": "stdout",
     "output_type": "stream",
     "text": [
      "Best Params:  {'leaf_size': np.int64(1), 'n_neighbors': np.int64(15), 'weights': 'distance'}\n"
     ]
    }
   ],
   "source": [
    "best_parameters_raw = tune_hyperparameters(KNeighborsClassifier(),X_train,y_train)"
   ]
  },
  {
   "cell_type": "markdown",
   "metadata": {
    "id": "y7BOM6KA_hSI"
   },
   "source": [
    "### With Standardization"
   ]
  },
  {
   "cell_type": "code",
   "execution_count": 11,
   "metadata": {
    "colab": {
     "base_uri": "https://localhost:8080/"
    },
    "executionInfo": {
     "elapsed": 19235,
     "status": "ok",
     "timestamp": 1636698033145,
     "user": {
      "displayName": "Aastha IIITD",
      "photoUrl": "https://lh3.googleusercontent.com/a-/AOh14GiLraMOSGhp36GfNRW9pA30-8inCgO3YzOMmuDksQ=s64",
      "userId": "17611466845080095343"
     },
     "user_tz": -330
    },
    "id": "WHCCKdA9wUSL",
    "outputId": "d883e938-3bf0-4fcb-aeb5-3ee73b6f50c5"
   },
   "outputs": [
    {
     "name": "stdout",
     "output_type": "stream",
     "text": [
      "Best Params:  {'leaf_size': np.int64(1), 'n_neighbors': np.int64(11), 'weights': 'uniform'}\n"
     ]
    }
   ],
   "source": [
    "best_parameters_std = tune_hyperparameters(KNeighborsClassifier(),X_train_standardized,y_train)"
   ]
  },
  {
   "cell_type": "markdown",
   "metadata": {
    "id": "d1GoxDQ2_qVM"
   },
   "source": [
    "### With Normalization"
   ]
  },
  {
   "cell_type": "code",
   "execution_count": 12,
   "metadata": {
    "colab": {
     "base_uri": "https://localhost:8080/"
    },
    "executionInfo": {
     "elapsed": 19274,
     "status": "ok",
     "timestamp": 1636698052412,
     "user": {
      "displayName": "Aastha IIITD",
      "photoUrl": "https://lh3.googleusercontent.com/a-/AOh14GiLraMOSGhp36GfNRW9pA30-8inCgO3YzOMmuDksQ=s64",
      "userId": "17611466845080095343"
     },
     "user_tz": -330
    },
    "id": "_Ly5-0h4_e0s",
    "outputId": "9fe6db8a-55d5-4de7-c474-f5261dabf3e7"
   },
   "outputs": [
    {
     "name": "stdout",
     "output_type": "stream",
     "text": [
      "Best Params:  {'leaf_size': np.int64(1), 'n_neighbors': np.int64(9), 'weights': 'uniform'}\n"
     ]
    }
   ],
   "source": [
    "best_parameters_norm = tune_hyperparameters(KNeighborsClassifier(),X_train_normalized,y_train)"
   ]
  },
  {
   "cell_type": "markdown",
   "metadata": {
    "id": "70NQ25ZaIueS"
   },
   "source": [
    "# KNeighbors Classifier"
   ]
  },
  {
   "cell_type": "code",
   "execution_count": 13,
   "metadata": {
    "executionInfo": {
     "elapsed": 32,
     "status": "ok",
     "timestamp": 1636698052414,
     "user": {
      "displayName": "Aastha IIITD",
      "photoUrl": "https://lh3.googleusercontent.com/a-/AOh14GiLraMOSGhp36GfNRW9pA30-8inCgO3YzOMmuDksQ=s64",
      "userId": "17611466845080095343"
     },
     "user_tz": -330
    },
    "id": "PeyJ9-eFD7EK"
   },
   "outputs": [],
   "source": [
    "def train_predict_evaluate(model,X_train,y_train,X_test):\n",
    "  model.fit(X_train,y_train)\n",
    "  y_pred = model.predict(X_test)\n",
    "\n",
    "  print(\"Accuracy: \",accuracy_score(y_test,y_pred))\n",
    "  print(\"Precision: \",precision_score(y_test,y_pred))\n",
    "  print(\"Recall: \",recall_score(y_test,y_pred))\n",
    "  print(\"F1 Score: \",f1_score(y_test,y_pred))\n",
    "  print(\"Confusion Matrix:\\n\",confusion_matrix(y_test,y_pred))\n",
    "\n",
    "  \n",
    "  fpr,tpr,thresholds = roc_curve(y_test,y_pred)\n",
    "  plt.plot(fpr, tpr,color='green',label='ROC curve (area = %0.2f)' % auc(fpr,tpr))\n",
    "  plt.plot([0, 1], [0, 1], color='orange', linestyle='--')\n",
    "  plt.xlabel(\"False Positive Rate\")\n",
    "  plt.ylabel(\"True Positive Rate\")\n",
    "  plt.title(\"ROC Curve\")\n",
    "  plt.legend(loc=\"lower right\")\n",
    "  plt.show()"
   ]
  },
  {
   "cell_type": "markdown",
   "metadata": {
    "id": "GNEbkxVqJGl1"
   },
   "source": [
    "### Without Scaling"
   ]
  },
  {
   "cell_type": "code",
   "execution_count": 14,
   "metadata": {
    "colab": {
     "base_uri": "https://localhost:8080/",
     "height": 414
    },
    "executionInfo": {
     "elapsed": 31,
     "status": "ok",
     "timestamp": 1636698052415,
     "user": {
      "displayName": "Aastha IIITD",
      "photoUrl": "https://lh3.googleusercontent.com/a-/AOh14GiLraMOSGhp36GfNRW9pA30-8inCgO3YzOMmuDksQ=s64",
      "userId": "17611466845080095343"
     },
     "user_tz": -330
    },
    "id": "7am2MphgJE1P",
    "outputId": "f7dde81d-9e33-4074-8cfd-4caed2d96f9c"
   },
   "outputs": [
    {
     "name": "stdout",
     "output_type": "stream",
     "text": [
      "Accuracy:  0.8253968253968254\n",
      "Precision:  0.5\n",
      "Recall:  0.03896103896103896\n",
      "F1 Score:  0.07228915662650602\n",
      "Confusion Matrix:\n",
      " [[361   3]\n",
      " [ 74   3]]\n"
     ]
    },
    {
     "data": {
      "image/png": "[encoded data removed]",
      "text/plain": [
       "<Figure size 640x480 with 1 Axes>"
      ]
     },
     "metadata": {},
     "output_type": "display_data"
    }
   ],
   "source": [
    "train_predict_evaluate(KNeighborsClassifier(**best_parameters_raw),X_train,y_train,X_test)"
   ]
  },
  {
   "cell_type": "markdown",
   "metadata": {
    "id": "pbCGCXWTJWM_"
   },
   "source": [
    "### With Standardization"
   ]
  },
  {
   "cell_type": "code",
   "execution_count": 15,
   "metadata": {
    "colab": {
     "base_uri": "https://localhost:8080/",
     "height": 414
    },
    "executionInfo": {
     "elapsed": 1255,
     "status": "ok",
     "timestamp": 1636698053662,
     "user": {
      "displayName": "Aastha IIITD",
      "photoUrl": "https://lh3.googleusercontent.com/a-/AOh14GiLraMOSGhp36GfNRW9pA30-8inCgO3YzOMmuDksQ=s64",
      "userId": "17611466845080095343"
     },
     "user_tz": -330
    },
    "id": "-eL6L3g4JRCr",
    "outputId": "3b853c8d-4b72-4bd3-e1b4-4bdf0d2be88a"
   },
   "outputs": [
    {
     "name": "stdout",
     "output_type": "stream",
     "text": [
      "Accuracy:  0.8231292517006803\n",
      "Precision:  0.4\n",
      "Recall:  0.025974025974025976\n",
      "F1 Score:  0.04878048780487805\n",
      "Confusion Matrix:\n",
      " [[361   3]\n",
      " [ 75   2]]\n"
     ]
    },
    {
     "data": {
      "image/png": "[encoded data removed]",
      "text/plain": [
       "<Figure size 640x480 with 1 Axes>"
      ]
     },
     "metadata": {},
     "output_type": "display_data"
    }
   ],
   "source": [
    "train_predict_evaluate(KNeighborsClassifier(**best_parameters_std),X_train_standardized,y_train,X_test_standardized)"
   ]
  },
  {
   "cell_type": "markdown",
   "metadata": {
    "id": "yJdLrywWJ8C2"
   },
   "source": [
    "### With Normalization"
   ]
  },
  {
   "cell_type": "code",
   "execution_count": 16,
   "metadata": {
    "colab": {
     "base_uri": "https://localhost:8080/",
     "height": 414
    },
    "executionInfo": {
     "elapsed": 16,
     "status": "ok",
     "timestamp": 1636698053664,
     "user": {
      "displayName": "Aastha IIITD",
      "photoUrl": "https://lh3.googleusercontent.com/a-/AOh14GiLraMOSGhp36GfNRW9pA30-8inCgO3YzOMmuDksQ=s64",
      "userId": "17611466845080095343"
     },
     "user_tz": -330
    },
    "id": "Gb9_AGqoJ3pM",
    "outputId": "618d8b0a-ed07-44a7-efe8-0c87fbe7a49a"
   },
   "outputs": [
    {
     "name": "stdout",
     "output_type": "stream",
     "text": [
      "Accuracy:  0.8321995464852607\n",
      "Precision:  0.7142857142857143\n",
      "Recall:  0.06493506493506493\n",
      "F1 Score:  0.11904761904761904\n",
      "Confusion Matrix:\n",
      " [[362   2]\n",
      " [ 72   5]]\n"
     ]
    },
    {
     "data": {
      "image/png": "[encoded data removed]",
      "text/plain": [
       "<Figure size 640x480 with 1 Axes>"
      ]
     },
     "metadata": {},
     "output_type": "display_data"
    }
   ],
   "source": [
    "train_predict_evaluate(KNeighborsClassifier(**best_parameters_norm),X_train_normalized,y_train,X_test_normalized)"
   ]
  },
  {
   "cell_type": "markdown",
   "metadata": {
    "id": "TPnVWgIgKgss"
   },
   "source": [
    "# K-Fold Cross Validation"
   ]
  },
  {
   "cell_type": "code",
   "execution_count": 17,
   "metadata": {
    "executionInfo": {
     "elapsed": 12,
     "status": "ok",
     "timestamp": 1636698053665,
     "user": {
      "displayName": "Aastha IIITD",
      "photoUrl": "https://lh3.googleusercontent.com/a-/AOh14GiLraMOSGhp36GfNRW9pA30-8inCgO3YzOMmuDksQ=s64",
      "userId": "17611466845080095343"
     },
     "user_tz": -330
    },
    "id": "CYVvaM_UKYJV"
   },
   "outputs": [],
   "source": [
    "def cross_validation(model,X,y):\n",
    "  scores = cross_validate(model, X, y, cv=5,scoring=('accuracy','precision','recall','f1'))\n",
    "\n",
    "  metrics = []\n",
    "  metrics.append(np.mean(scores['test_accuracy']))\n",
    "  metrics.append(np.mean(scores['test_precision']))\n",
    "  metrics.append(np.mean(scores['test_recall']))\n",
    "  metrics.append(np.mean(scores['test_f1']))\n",
    "\n",
    "  print(\"Accuracy: \",metrics[0])\n",
    "  print(\"Precision: \",metrics[1])\n",
    "  print(\"Recall: \",metrics[2])\n",
    "  print(\"F1 Score: \",metrics[3])\n",
    "\n",
    "  return metrics"
   ]
  },
  {
   "cell_type": "code",
   "execution_count": 18,
   "metadata": {
    "executionInfo": {
     "elapsed": 12,
     "status": "ok",
     "timestamp": 1636698053665,
     "user": {
      "displayName": "Aastha IIITD",
      "photoUrl": "https://lh3.googleusercontent.com/a-/AOh14GiLraMOSGhp36GfNRW9pA30-8inCgO3YzOMmuDksQ=s64",
      "userId": "17611466845080095343"
     },
     "user_tz": -330
    },
    "id": "TPFoTi-WKl4P"
   },
   "outputs": [],
   "source": [
    "metrics = []"
   ]
  },
  {
   "cell_type": "markdown",
   "metadata": {
    "id": "p4V47h3mLEMa"
   },
   "source": [
    "### Without Scaling"
   ]
  },
  {
   "cell_type": "code",
   "execution_count": 19,
   "metadata": {
    "colab": {
     "base_uri": "https://localhost:8080/"
    },
    "executionInfo": {
     "elapsed": 12,
     "status": "ok",
     "timestamp": 1636698053665,
     "user": {
      "displayName": "Aastha IIITD",
      "photoUrl": "https://lh3.googleusercontent.com/a-/AOh14GiLraMOSGhp36GfNRW9pA30-8inCgO3YzOMmuDksQ=s64",
      "userId": "17611466845080095343"
     },
     "user_tz": -330
    },
    "id": "1pKYvLZQKnSB",
    "outputId": "5b0fb3f1-d6b0-43a4-d2de-709d4dcb937e"
   },
   "outputs": [
    {
     "name": "stdout",
     "output_type": "stream",
     "text": [
      "Accuracy:  0.8414965986394558\n",
      "Precision:  0.58\n",
      "Recall:  0.0673758865248227\n",
      "F1 Score:  0.12029856935517313\n"
     ]
    }
   ],
   "source": [
    "metrics.append(cross_validation(KNeighborsClassifier(**best_parameters_raw),X,y))"
   ]
  },
  {
   "cell_type": "markdown",
   "metadata": {
    "id": "qalt1h3wNcf-"
   },
   "source": [
    "### With Standardization"
   ]
  },
  {
   "cell_type": "code",
   "execution_count": 20,
   "metadata": {
    "colab": {
     "base_uri": "https://localhost:8080/"
    },
    "executionInfo": {
     "elapsed": 1165,
     "status": "ok",
     "timestamp": 1636698054820,
     "user": {
      "displayName": "Aastha IIITD",
      "photoUrl": "https://lh3.googleusercontent.com/a-/AOh14GiLraMOSGhp36GfNRW9pA30-8inCgO3YzOMmuDksQ=s64",
      "userId": "17611466845080095343"
     },
     "user_tz": -330
    },
    "id": "OkbydzhvLOeg",
    "outputId": "eea492db-90cc-4680-d5fe-f54949a16afd"
   },
   "outputs": [
    {
     "name": "stdout",
     "output_type": "stream",
     "text": [
      "Accuracy:  0.845578231292517\n",
      "Precision:  0.85\n",
      "Recall:  0.059308510638297875\n",
      "F1 Score:  0.10751077493934635\n"
     ]
    }
   ],
   "source": [
    "metrics.append(cross_validation(KNeighborsClassifier(**best_parameters_std),X_standardized,y))"
   ]
  },
  {
   "cell_type": "code",
   "execution_count": 21,
   "metadata": {
    "colab": {
     "base_uri": "https://localhost:8080/"
    },
    "executionInfo": {
     "elapsed": 1024,
     "status": "ok",
     "timestamp": 1636698055840,
     "user": {
      "displayName": "Aastha IIITD",
      "photoUrl": "https://lh3.googleusercontent.com/a-/AOh14GiLraMOSGhp36GfNRW9pA30-8inCgO3YzOMmuDksQ=s64",
      "userId": "17611466845080095343"
     },
     "user_tz": -330
    },
    "id": "ij8b-bkZNXl9",
    "outputId": "83271960-2533-41c5-f33d-9afcc1fe16c1"
   },
   "outputs": [
    {
     "name": "stdout",
     "output_type": "stream",
     "text": [
      "Accuracy:  0.8482993197278912\n",
      "Precision:  0.7714285714285715\n",
      "Recall:  0.08882978723404253\n",
      "F1 Score:  0.15736185383244206\n"
     ]
    }
   ],
   "source": [
    "metrics.append(cross_validation(KNeighborsClassifier(**best_parameters_norm),X_normalized,y))"
   ]
  },
  {
   "cell_type": "markdown",
   "metadata": {
    "id": "kLT3xw1VNpOh"
   },
   "source": [
    "# Performance and Comparison Plots"
   ]
  },
  {
   "cell_type": "code",
   "execution_count": 22,
   "metadata": {
    "colab": {
     "base_uri": "https://localhost:8080/",
     "height": 142
    },
    "executionInfo": {
     "elapsed": 16,
     "status": "ok",
     "timestamp": 1636698055840,
     "user": {
      "displayName": "Aastha IIITD",
      "photoUrl": "https://lh3.googleusercontent.com/a-/AOh14GiLraMOSGhp36GfNRW9pA30-8inCgO3YzOMmuDksQ=s64",
      "userId": "17611466845080095343"
     },
     "user_tz": -330
    },
    "id": "SCeU-8X5Nmfc",
    "outputId": "fc93cb6c-5adc-48af-c639-9907b217f3f7"
   },
   "outputs": [
    {
     "data": {
      "text/html": [
       "<div>\n",
       "<style scoped>\n",
       "    .dataframe tbody tr th:only-of-type {\n",
       "        vertical-align: middle;\n",
       "    }\n",
       "\n",
       "    .dataframe tbody tr th {\n",
       "        vertical-align: top;\n",
       "    }\n",
       "\n",
       "    .dataframe thead th {\n",
       "        text-align: right;\n",
       "    }\n",
       "</style>\n",
       "<table border=\"1\" class=\"dataframe\">\n",
       "  <thead>\n",
       "    <tr style=\"text-align: right;\">\n",
       "      <th></th>\n",
       "      <th>Accuracy</th>\n",
       "      <th>Precision</th>\n",
       "      <th>Recall</th>\n",
       "      <th>F1 Score</th>\n",
       "    </tr>\n",
       "  </thead>\n",
       "  <tbody>\n",
       "    <tr>\n",
       "      <th>Without Scaling</th>\n",
       "      <td>0.841497</td>\n",
       "      <td>0.580000</td>\n",
       "      <td>0.067376</td>\n",
       "      <td>0.120299</td>\n",
       "    </tr>\n",
       "    <tr>\n",
       "      <th>With Standardization</th>\n",
       "      <td>0.845578</td>\n",
       "      <td>0.850000</td>\n",
       "      <td>0.059309</td>\n",
       "      <td>0.107511</td>\n",
       "    </tr>\n",
       "    <tr>\n",
       "      <th>With Normalization</th>\n",
       "      <td>0.848299</td>\n",
       "      <td>0.771429</td>\n",
       "      <td>0.088830</td>\n",
       "      <td>0.157362</td>\n",
       "    </tr>\n",
       "  </tbody>\n",
       "</table>\n",
       "</div>"
      ],
      "text/plain": [
       "                      Accuracy  Precision    Recall  F1 Score\n",
       "Without Scaling       0.841497   0.580000  0.067376  0.120299\n",
       "With Standardization  0.845578   0.850000  0.059309  0.107511\n",
       "With Normalization    0.848299   0.771429  0.088830  0.157362"
      ]
     },
     "execution_count": 22,
     "metadata": {},
     "output_type": "execute_result"
    }
   ],
   "source": [
    "mdf = pd.DataFrame(metrics,columns=[\"Accuracy\",\"Precision\",\"Recall\",\"F1 Score\"],index=[\"Without Scaling\",\"With Standardization\",\"With Normalization\"])\n",
    "mdf.head()"
   ]
  },
  {
   "cell_type": "code",
   "execution_count": 23,
   "metadata": {
    "colab": {
     "base_uri": "https://localhost:8080/",
     "height": 265
    },
    "executionInfo": {
     "elapsed": 14,
     "status": "ok",
     "timestamp": 1636698055841,
     "user": {
      "displayName": "Aastha IIITD",
      "photoUrl": "https://lh3.googleusercontent.com/a-/AOh14GiLraMOSGhp36GfNRW9pA30-8inCgO3YzOMmuDksQ=s64",
      "userId": "17611466845080095343"
     },
     "user_tz": -330
    },
    "id": "DgPS2iJtN7g3",
    "outputId": "0e0433a9-ca02-4f4a-a973-5991d0e87705"
   },
   "outputs": [
    {
     "data": {
      "image/png": "[encoded data removed]",
      "text/plain": [
       "<Figure size 640x480 with 1 Axes>"
      ]
     },
     "metadata": {},
     "output_type": "display_data"
    }
   ],
   "source": [
    "mdf['Accuracy'].plot()\n",
    "plt.ylabel(\"Accuracy\")\n",
    "plt.show()"
   ]
  },
  {
   "cell_type": "code",
   "execution_count": 24,
   "metadata": {
    "colab": {
     "base_uri": "https://localhost:8080/",
     "height": 265
    },
    "executionInfo": {
     "elapsed": 12,
     "status": "ok",
     "timestamp": 1636698055841,
     "user": {
      "displayName": "Aastha IIITD",
      "photoUrl": "https://lh3.googleusercontent.com/a-/AOh14GiLraMOSGhp36GfNRW9pA30-8inCgO3YzOMmuDksQ=s64",
      "userId": "17611466845080095343"
     },
     "user_tz": -330
    },
    "id": "SHYY--yAN-A4",
    "outputId": "81f5d981-ba75-4065-d28a-0b32a5ff0219"
   },
   "outputs": [
    {
     "data": {
      "image/png": "[encoded data removed]",
      "text/plain": [
       "<Figure size 640x480 with 1 Axes>"
      ]
     },
     "metadata": {},
     "output_type": "display_data"
    }
   ],
   "source": [
    "mdf['Precision'].plot()\n",
    "plt.ylabel(\"Precision\")\n",
    "plt.show()"
   ]
  },
  {
   "cell_type": "code",
   "execution_count": 25,
   "metadata": {
    "colab": {
     "base_uri": "https://localhost:8080/",
     "height": 267
    },
    "executionInfo": {
     "elapsed": 754,
     "status": "ok",
     "timestamp": 1636698056584,
     "user": {
      "displayName": "Aastha IIITD",
      "photoUrl": "https://lh3.googleusercontent.com/a-/AOh14GiLraMOSGhp36GfNRW9pA30-8inCgO3YzOMmuDksQ=s64",
      "userId": "17611466845080095343"
     },
     "user_tz": -330
    },
    "id": "0HQ6RPYsN_pO",
    "outputId": "fbfcd626-8915-471d-96bc-64f523f8ad5f"
   },
   "outputs": [
    {
     "data": {
      "image/png": "[encoded data removed]",
      "text/plain": [
       "<Figure size 640x480 with 1 Axes>"
      ]
     },
     "metadata": {},
     "output_type": "display_data"
    }
   ],
   "source": [
    "mdf['Recall'].plot()\n",
    "plt.ylabel(\"Recall\")\n",
    "plt.show()"
   ]
  },
  {
   "cell_type": "code",
   "execution_count": 26,
   "metadata": {
    "colab": {
     "base_uri": "https://localhost:8080/",
     "height": 265
    },
    "executionInfo": {
     "elapsed": 14,
     "status": "ok",
     "timestamp": 1636698056587,
     "user": {
      "displayName": "Aastha IIITD",
      "photoUrl": "https://lh3.googleusercontent.com/a-/AOh14GiLraMOSGhp36GfNRW9pA30-8inCgO3YzOMmuDksQ=s64",
      "userId": "17611466845080095343"
     },
     "user_tz": -330
    },
    "id": "epbwDadNOA6-",
    "outputId": "e903ccb2-4c7a-44a1-ff1f-df5193cb8cae"
   },
   "outputs": [
    {
     "data": {
      "image/png": "[encoded data removed]",
      "text/plain": [
       "<Figure size 640x480 with 1 Axes>"
      ]
     },
     "metadata": {},
     "output_type": "display_data"
    }
   ],
   "source": [
    "mdf['F1 Score'].plot()\n",
    "plt.ylabel(\"F1 Score\")\n",
    "plt.show()"
   ]
  },
  {
   "cell_type": "code",
   "execution_count": 26,
   "metadata": {
    "executionInfo": {
     "elapsed": 13,
     "status": "ok",
     "timestamp": 1636698056587,
     "user": {
      "displayName": "Aastha IIITD",
      "photoUrl": "https://lh3.googleusercontent.com/a-/AOh14GiLraMOSGhp36GfNRW9pA30-8inCgO3YzOMmuDksQ=s64",
      "userId": "17611466845080095343"
     },
     "user_tz": -330
    },
    "id": "1Z6SIvRsOChN"
   },
   "outputs": [],
   "source": []
  }
 ],
 "metadata": {
  "colab": {
   "authorship_tag": "ABX9TyNArtlbx8o40y94f9m62xmf",
   "name": "KNeighborsClassifier.ipynb",
   "provenance": []
  },
  "kernelspec": {
   "display_name": "Python 3",
   "name": "python3"
  },
  "language_info": {
   "codemirror_mode": {
    "name": "ipython",
    "version": 3
   },
   "file_extension": ".py",
   "mimetype": "text/x-python",
   "name": "python",
   "nbconvert_exporter": "python",
   "pygments_lexer": "ipython3",
   "version": "3.13.1"
  }
 },
 "nbformat": 4,
 "nbformat_minor": 0
}
